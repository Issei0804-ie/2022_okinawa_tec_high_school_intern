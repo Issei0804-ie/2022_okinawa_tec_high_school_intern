{
 "cells": [
  {
   "cell_type": "markdown",
   "id": "7747704a",
   "metadata": {},
   "source": [
    "# プログラミング総合演習1\n",
    "\n",
    "## この時間の目標\n",
    "- プログラミングのステップが3つあることを理解する。\n",
    "- GoogleColabを使用して資料に掲載されているサンプルコードを実行する。\n",
    "- print文を使って任意の文を出力させることができる。\n",
    "- 標準的な型(int, str, float)を区別できる。\n",
    "- type() を使って型を確認できる。\n",
    "- 変数について理解する。\n",
    "- str型の変数の中身をprint文を使用して出力することができる。\n",
    "- 条件について理解する。\n",
    "- ループについて理解する。\n",
    "- 関数について理解する。\n",
    "\n",
    "---\n",
    "\n",
    "## プログラミングの3ステップ\n",
    "\n",
    "我々がプログラミングを行う際考えなければならないステップが3つある。\n",
    "以下のステップに従うことで、複雑な問題であったとしてもプログラムすることができる。\n",
    "\n",
    "1. 実現したいことに対する理解\n",
    "2. 理解したことを手順として説明する\n",
    "3. プログラムへ翻訳する\n",
    "\n",
    "例題を見ていこう。あなたが「三角形の面積を求める」ということをプログラミングで実現したいとする。\n",
    "その場合、プログラミングの3ステップは以下の通りとなる。\n",
    "\n",
    "1. 実現したいことに対する理解\n",
    "    + **三角形の面積を求める**と理解する\n",
    "2. 理解したことを手順として説明する\n",
    "    + 三角形の面積を求めるためには...\n",
    "      - 手順1. 求めたい三角形の底辺と高さを知る必要がある\n",
    "      - 手順2. 底辺と高さを用いて三角形の面積を計算する\n",
    "3. プログラムへ翻訳する\n",
    "    + 例として以下のコードを思いつく。"
   ]
  },
  {
   "cell_type": "code",
   "execution_count": 1,
   "id": "b7b152e7",
   "metadata": {
    "execution": {
     "iopub.execute_input": "2022-09-11T06:40:16.951657Z",
     "iopub.status.busy": "2022-09-11T06:40:16.950184Z",
     "iopub.status.idle": "2022-09-11T06:40:16.973093Z",
     "shell.execute_reply": "2022-09-11T06:40:16.971065Z"
    }
   },
   "outputs": [],
   "source": [
    "width = 3\n",
    "height = 5\n",
    "area = width * height / 2"
   ]
  },
  {
   "cell_type": "markdown",
   "id": "ed46149b",
   "metadata": {},
   "source": [
    "## print文を使って任意の文を出力させることができる。\n",
    "\n",
    "では、実際にPythonを書いてみよう。\n",
    "まずは\"Hello,World\"という文字を出力してみよう。出力はprint関数を用いることで行うことができる。"
   ]
  },
  {
   "cell_type": "code",
   "execution_count": 2,
   "id": "56e7be90",
   "metadata": {
    "execution": {
     "iopub.execute_input": "2022-09-11T06:40:16.979873Z",
     "iopub.status.busy": "2022-09-11T06:40:16.979260Z",
     "iopub.status.idle": "2022-09-11T06:40:16.985201Z",
     "shell.execute_reply": "2022-09-11T06:40:16.983973Z"
    }
   },
   "outputs": [],
   "source": [
    "# ここにprint文を書いてみる。"
   ]
  },
  {
   "cell_type": "markdown",
   "id": "c8ce5400",
   "metadata": {},
   "source": [
    "## 標準的な型(int, str, float)を区別できる。\n",
    "\n",
    "Pythonで扱う具体的な値は全て型を持っている。\n",
    "ここでは最低限覚えたいPythonが提供する型(type)について説明する。\n",
    "\n",
    "まずはint型について説明する。\n",
    "int型は整数が所持している型である。\n",
    "以下の値は全てint型である。"
   ]
  },
  {
   "cell_type": "code",
   "execution_count": 3,
   "id": "df332b0e",
   "metadata": {
    "execution": {
     "iopub.execute_input": "2022-09-11T06:40:16.992751Z",
     "iopub.status.busy": "2022-09-11T06:40:16.992099Z",
     "iopub.status.idle": "2022-09-11T06:40:17.010363Z",
     "shell.execute_reply": "2022-09-11T06:40:17.009479Z"
    }
   },
   "outputs": [
    {
     "data": {
      "text/plain": [
       "200"
      ]
     },
     "execution_count": 3,
     "metadata": {},
     "output_type": "execute_result"
    }
   ],
   "source": [
    "1\n",
    "3-1\n",
    "100+400\n",
    "100*2"
   ]
  },
  {
   "cell_type": "markdown",
   "id": "2c807d52",
   "metadata": {},
   "source": [
    "次にfloat型について説明する。\n",
    "float型は少数が所持している型である。\n",
    "以下の値は全てfloat型である。"
   ]
  },
  {
   "cell_type": "code",
   "execution_count": 4,
   "id": "a1709b30",
   "metadata": {
    "execution": {
     "iopub.execute_input": "2022-09-11T06:40:17.013486Z",
     "iopub.status.busy": "2022-09-11T06:40:17.013243Z",
     "iopub.status.idle": "2022-09-11T06:40:17.017480Z",
     "shell.execute_reply": "2022-09-11T06:40:17.016985Z"
    }
   },
   "outputs": [
    {
     "data": {
      "text/plain": [
       "0.010000000000000002"
      ]
     },
     "execution_count": 4,
     "metadata": {},
     "output_type": "execute_result"
    }
   ],
   "source": [
    "0.1\n",
    "0.00001\n",
    "0.1*0.1"
   ]
  },
  {
   "cell_type": "markdown",
   "id": "7fa00ff4",
   "metadata": {},
   "source": [
    "次にstr型について説明する。\n",
    "str型は文字列または文字が所持している型である。\n",
    "以下の値は全てstr型である。"
   ]
  },
  {
   "cell_type": "code",
   "execution_count": 5,
   "id": "023f6165",
   "metadata": {
    "execution": {
     "iopub.execute_input": "2022-09-11T06:40:17.020206Z",
     "iopub.status.busy": "2022-09-11T06:40:17.019935Z",
     "iopub.status.idle": "2022-09-11T06:40:17.023862Z",
     "shell.execute_reply": "2022-09-11T06:40:17.023259Z"
    }
   },
   "outputs": [
    {
     "data": {
      "text/plain": [
       "'A'"
      ]
     },
     "execution_count": 5,
     "metadata": {},
     "output_type": "execute_result"
    }
   ],
   "source": [
    "\"hoge\"\n",
    "\"sample\"\n",
    "\"A\"\n",
    "'A'"
   ]
  },
  {
   "cell_type": "markdown",
   "id": "55610ab2",
   "metadata": {},
   "source": [
    "## type() を使って型を確認できる。\n",
    "\n",
    "ここまで標準的な型について説明してきたが、type関数を使用することで型を判別することができる。\n",
    "実際に手を動かして確認してみよう。"
   ]
  },
  {
   "cell_type": "code",
   "execution_count": 6,
   "id": "18475fdf",
   "metadata": {
    "execution": {
     "iopub.execute_input": "2022-09-11T06:40:17.026367Z",
     "iopub.status.busy": "2022-09-11T06:40:17.026134Z",
     "iopub.status.idle": "2022-09-11T06:40:17.029891Z",
     "shell.execute_reply": "2022-09-11T06:40:17.029463Z"
    }
   },
   "outputs": [
    {
     "data": {
      "text/plain": [
       "str"
      ]
     },
     "execution_count": 6,
     "metadata": {},
     "output_type": "execute_result"
    }
   ],
   "source": [
    "# int型の確認\n",
    "type(2)\n",
    "\n",
    "# float型の確認\n",
    "type(0.1)\n",
    "\n",
    "# str型の確認\n",
    "type(\"hoge\")"
   ]
  },
  {
   "cell_type": "markdown",
   "id": "a9954d8d",
   "metadata": {},
   "source": [
    "## 変数について理解する。\n",
    "\n",
    "## str型の変数の中身をprint文を使用して出力することができる。\n",
    "\n",
    "次にprint文を使用して変数の中身を表示してみる。\n",
    "例えば、\"Pythonはプログラミング言語です\"というstr型を持つ値に対してsentenceという名前を付けてみる。"
   ]
  },
  {
   "cell_type": "code",
   "execution_count": 7,
   "id": "3a43f94f",
   "metadata": {
    "execution": {
     "iopub.execute_input": "2022-09-11T06:40:17.032260Z",
     "iopub.status.busy": "2022-09-11T06:40:17.032071Z",
     "iopub.status.idle": "2022-09-11T06:40:17.034639Z",
     "shell.execute_reply": "2022-09-11T06:40:17.034211Z"
    }
   },
   "outputs": [],
   "source": [
    "sentence = \"Pythonはプログラミング言語です\""
   ]
  },
  {
   "cell_type": "markdown",
   "id": "51d5189e",
   "metadata": {},
   "source": [
    "さらにこれをprint文を使って出力してみる。"
   ]
  },
  {
   "cell_type": "code",
   "execution_count": 8,
   "id": "ed13d590",
   "metadata": {
    "execution": {
     "iopub.execute_input": "2022-09-11T06:40:17.036894Z",
     "iopub.status.busy": "2022-09-11T06:40:17.036667Z",
     "iopub.status.idle": "2022-09-11T06:40:17.040132Z",
     "shell.execute_reply": "2022-09-11T06:40:17.039657Z"
    }
   },
   "outputs": [
    {
     "name": "stdout",
     "output_type": "stream",
     "text": [
      "Pythonはプログラミング言語です\n"
     ]
    }
   ],
   "source": [
    "print(sentence)"
   ]
  },
  {
   "cell_type": "markdown",
   "id": "f54675d0",
   "metadata": {},
   "source": [
    "これでstr型の変数の中身をprint文を使用して出力することができた。\n",
    "\n",
    "## 条件について理解する。\n",
    "まずif文について説明する。\n",
    "Pythonのif文の構文は以下の通りである。\n",
    "\n",
    "```\n",
    "if 条件文:\n",
    "    真の場合の処理\n",
    "else: \n",
    "    偽の場合の処理\n",
    "```\n",
    "\n",
    "なお、else句については省略可能である。\n",
    "また、else-if句については以下のように記述できる。\n",
    "\n",
    "```\n",
    "if 条件文1:\n",
    "    条件文1が真の場合の処理\n",
    "elif 条件文2:\n",
    "    条件文2が真の場合の処理\n",
    "else:\n",
    "    条件文1,条件文2ともに偽だった場合の処理\n",
    "```\n",
    "\n",
    "では試しに、下記のコード中の\"[MASK]\"を穴埋めして \"sub_valueは0より小さいです。\" という文を出力してみよう。"
   ]
  },
  {
   "cell_type": "code",
   "execution_count": 9,
   "id": "b2a53e58",
   "metadata": {
    "execution": {
     "iopub.execute_input": "2022-09-11T06:40:17.042413Z",
     "iopub.status.busy": "2022-09-11T06:40:17.042232Z",
     "iopub.status.idle": "2022-09-11T06:40:17.357796Z",
     "shell.execute_reply": "2022-09-11T06:40:17.357315Z"
    },
    "tags": [
     "raises-exception",
     "hide-output"
    ]
   },
   "outputs": [
    {
     "name": "stdout",
     "output_type": "stream",
     "text": [
      "sum_value は3より大きいです。\n"
     ]
    },
    {
     "ename": "NameError",
     "evalue": "name 'MASK' is not defined",
     "output_type": "error",
     "traceback": [
      "\u001b[0;31m---------------------------------------------------------------------------\u001b[0m",
      "\u001b[0;31mNameError\u001b[0m                                 Traceback (most recent call last)",
      "Cell \u001b[0;32mIn [9], line 8\u001b[0m\n\u001b[1;32m      6\u001b[0m sub_value \u001b[38;5;241m=\u001b[39m \u001b[38;5;241m5\u001b[39m \u001b[38;5;241m-\u001b[39m \u001b[38;5;241m6\u001b[39m\n\u001b[1;32m      7\u001b[0m \u001b[38;5;66;03m# ここで sub_value が0より小さいか判定を行う。\u001b[39;00m\n\u001b[0;32m----> 8\u001b[0m \u001b[38;5;28;01mif\u001b[39;00m [\u001b[43mMASK\u001b[49m]:\n\u001b[1;32m      9\u001b[0m     \u001b[38;5;28mprint\u001b[39m(\u001b[38;5;124m\"\u001b[39m\u001b[38;5;124msub_valueは0より小さいです。\u001b[39m\u001b[38;5;124m\"\u001b[39m)\n\u001b[1;32m     10\u001b[0m \u001b[38;5;28;01melse\u001b[39;00m:\n",
      "\u001b[0;31mNameError\u001b[0m: name 'MASK' is not defined"
     ]
    }
   ],
   "source": [
    "# 下記は例である。\n",
    "sum_value = 3 + 2\n",
    "if sum_value > 3:\n",
    "    print(\"sum_value は3より大きいです。\")\n",
    "\n",
    "sub_value = 5 - 6\n",
    "# ここで sub_value が0より小さいか判定を行う。\n",
    "if [MASK]:\n",
    "    print(\"sub_valueは0より小さいです。\")\n",
    "else:\n",
    "    print(\"sub_valueは0以上です。\")"
   ]
  },
  {
   "cell_type": "markdown",
   "id": "6af90908",
   "metadata": {},
   "source": [
    "## ループについて理解する。\n",
    "\n",
    "次にループの話をする。Pythonでループを行う方法はfor文とwhile文を使う2つの方法がある。\n",
    "ここではfor文を用いたループについて説明する。\n",
    "Pythonのfor文の構文は以下である。"
   ]
  },
  {
   "cell_type": "code",
   "execution_count": 10,
   "id": "74edfd0f",
   "metadata": {
    "execution": {
     "iopub.execute_input": "2022-09-11T06:40:17.359982Z",
     "iopub.status.busy": "2022-09-11T06:40:17.359842Z",
     "iopub.status.idle": "2022-09-11T06:40:17.362343Z",
     "shell.execute_reply": "2022-09-11T06:40:17.362001Z"
    }
   },
   "outputs": [
    {
     "name": "stdout",
     "output_type": "stream",
     "text": [
      "ループ\n",
      "ループ\n",
      "ループ\n",
      "ループ\n",
      "ループ\n",
      "ループ\n",
      "ループ\n",
      "ループ\n",
      "ループ\n",
      "ループ\n"
     ]
    }
   ],
   "source": [
    "# \"ループ\"という文字を10回出力する方法\n",
    "\n",
    "for i in range(10):\n",
    "    print(\"ループ\")\n",
    "\n"
   ]
  },
  {
   "cell_type": "markdown",
   "id": "0fdc2992",
   "metadata": {},
   "source": [
    "## 関数について理解する。\n",
    "\n",
    "Pythonにおける関数の定義方法は下記である。"
   ]
  },
  {
   "cell_type": "code",
   "execution_count": 11,
   "id": "3a4ef9de",
   "metadata": {
    "execution": {
     "iopub.execute_input": "2022-09-11T06:40:17.364062Z",
     "iopub.status.busy": "2022-09-11T06:40:17.363927Z",
     "iopub.status.idle": "2022-09-11T06:40:17.366457Z",
     "shell.execute_reply": "2022-09-11T06:40:17.366118Z"
    }
   },
   "outputs": [
    {
     "name": "stdout",
     "output_type": "stream",
     "text": [
      "5\n"
     ]
    }
   ],
   "source": [
    "def add(a, b):\n",
    "  return a + b\n",
    "\n",
    "sum = add(2,3)\n",
    "print(sum)"
   ]
  },
  {
   "cell_type": "markdown",
   "id": "15e9d401",
   "metadata": {},
   "source": [
    "また、型ヒントを使うと下記のように書き換えることができる。"
   ]
  },
  {
   "cell_type": "code",
   "execution_count": 12,
   "id": "5125e7c3",
   "metadata": {
    "execution": {
     "iopub.execute_input": "2022-09-11T06:40:17.368208Z",
     "iopub.status.busy": "2022-09-11T06:40:17.368073Z",
     "iopub.status.idle": "2022-09-11T06:40:17.370789Z",
     "shell.execute_reply": "2022-09-11T06:40:17.370269Z"
    }
   },
   "outputs": [
    {
     "name": "stdout",
     "output_type": "stream",
     "text": [
      "5\n"
     ]
    }
   ],
   "source": [
    "def add(a: int, b :int) -> int:\n",
    "  return a + b\n",
    "\n",
    "sum = add(2,3)\n",
    "print(sum)"
   ]
  }
 ],
 "metadata": {
  "jupytext": {
   "cell_metadata_json": true
  },
  "kernelspec": {
   "display_name": "Python 3",
   "language": "python",
   "name": "python3"
  },
  "language_info": {
   "codemirror_mode": {
    "name": "ipython",
    "version": 3
   },
   "file_extension": ".py",
   "mimetype": "text/x-python",
   "name": "python",
   "nbconvert_exporter": "python",
   "pygments_lexer": "ipython3",
   "version": "3.10.5"
  }
 },
 "nbformat": 4,
 "nbformat_minor": 5
}
