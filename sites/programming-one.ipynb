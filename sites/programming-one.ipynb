{
 "cells": [
  {
   "cell_type": "markdown",
   "id": "73036f09",
   "metadata": {},
   "source": [
    "# プログラミング総合演習1\n",
    "\n",
    "## この時間の目標\n",
    "- プログラミングのステップが3つあることを理解する。\n",
    "- print文を使って任意の文を出力させることができる。\n",
    "- 標準的な型(int, str, float)を区別できる。\n",
    "- type() を使って型を確認できる。\n",
    "- str型の変数の中身をprint文を使用して出力することができる。\n",
    "- 条件について理解する。\n",
    "- ループについて理解する。\n",
    "- 関数について理解する。\n",
    "\n",
    "---\n",
    "\n",
    "## プログラミングの3ステップ\n",
    "\n",
    "我々がプログラミングを行う際考えなければならないステップが3つある。\n",
    "以下のステップに従うことで、複雑な問題であったとしてもプログラムすることができる。\n",
    "\n",
    "1. 実現したいことに対する理解\n",
    "2. 理解したことを手順として説明する\n",
    "3. プログラムへ翻訳する\n",
    "\n",
    "例題を見ていこう。あなたが「三角形の面積を求める」ということをプログラミングで実現したいとする。\n",
    "その場合、プログラミングの3ステップは以下の通りとなる。\n",
    "\n",
    "1. 実現したいことに対する理解\n",
    "    + **三角形の面積を求める**と理解する\n",
    "2. 理解したことを手順として説明する\n",
    "    + 三角形の面積を求めるためには...\n",
    "      - 手順1. 求めたい三角形の底辺と高さを知る必要がある\n",
    "      - 手順2. 底辺と高さを用いて三角形の面積を計算する\n",
    "3. プログラムへ翻訳する\n",
    "    + 例として以下のコードを思いつく。"
   ]
  },
  {
   "cell_type": "code",
   "execution_count": 1,
   "id": "f055a5d1",
   "metadata": {
    "execution": {
     "iopub.execute_input": "2022-09-14T00:16:59.776323Z",
     "iopub.status.busy": "2022-09-14T00:16:59.775725Z",
     "iopub.status.idle": "2022-09-14T00:16:59.790346Z",
     "shell.execute_reply": "2022-09-14T00:16:59.788874Z"
    }
   },
   "outputs": [],
   "source": [
    "width = 3\n",
    "height = 5\n",
    "area = width * height / 2"
   ]
  },
  {
   "cell_type": "markdown",
   "id": "92675203",
   "metadata": {},
   "source": [
    "## print文を使って任意の文を出力させることができる。\n",
    "\n",
    "では、実際にPythonを書いてみよう。\n",
    "まずは\"Hello,World\"という文字を出力してみよう。出力はprint関数を用いることで行うことができる。"
   ]
  },
  {
   "cell_type": "code",
   "execution_count": 2,
   "id": "c6a26523",
   "metadata": {
    "execution": {
     "iopub.execute_input": "2022-09-14T00:16:59.795892Z",
     "iopub.status.busy": "2022-09-14T00:16:59.795401Z",
     "iopub.status.idle": "2022-09-14T00:16:59.800496Z",
     "shell.execute_reply": "2022-09-14T00:16:59.799325Z"
    }
   },
   "outputs": [],
   "source": [
    "# ここにprint文を書いてみる。"
   ]
  },
  {
   "cell_type": "markdown",
   "id": "1103da46",
   "metadata": {},
   "source": [
    "## 標準的な型(int, str, float)を区別できる。\n",
    "\n",
    "Pythonで扱う具体的な値は全て型を持っている。\n",
    "ここでは最低限覚えたいPythonが提供する型(type)について説明する。\n",
    "\n",
    "まずはint型について説明する。\n",
    "int型は整数が所持している型である。\n",
    "以下の値は全てint型である。"
   ]
  },
  {
   "cell_type": "code",
   "execution_count": 3,
   "id": "1bcb3efa",
   "metadata": {
    "execution": {
     "iopub.execute_input": "2022-09-14T00:16:59.805632Z",
     "iopub.status.busy": "2022-09-14T00:16:59.805169Z",
     "iopub.status.idle": "2022-09-14T00:16:59.819601Z",
     "shell.execute_reply": "2022-09-14T00:16:59.818054Z"
    }
   },
   "outputs": [
    {
     "data": {
      "text/plain": [
       "200"
      ]
     },
     "execution_count": 3,
     "metadata": {},
     "output_type": "execute_result"
    }
   ],
   "source": [
    "1\n",
    "3-1\n",
    "100+400\n",
    "100*2"
   ]
  },
  {
   "cell_type": "markdown",
   "id": "82daecc6",
   "metadata": {},
   "source": [
    "次にfloat型について説明する。\n",
    "float型は少数が所持している型である。\n",
    "以下の値は全てfloat型である。"
   ]
  },
  {
   "cell_type": "code",
   "execution_count": 4,
   "id": "bb7d7f5d",
   "metadata": {
    "execution": {
     "iopub.execute_input": "2022-09-14T00:16:59.825063Z",
     "iopub.status.busy": "2022-09-14T00:16:59.824603Z",
     "iopub.status.idle": "2022-09-14T00:16:59.830830Z",
     "shell.execute_reply": "2022-09-14T00:16:59.829928Z"
    }
   },
   "outputs": [
    {
     "data": {
      "text/plain": [
       "0.010000000000000002"
      ]
     },
     "execution_count": 4,
     "metadata": {},
     "output_type": "execute_result"
    }
   ],
   "source": [
    "0.1\n",
    "0.00001\n",
    "0.1*0.1"
   ]
  },
  {
   "cell_type": "markdown",
   "id": "3c0cddbd",
   "metadata": {},
   "source": [
    "次にstr型について説明する。\n",
    "str型は文字列または文字が所持している型である。\n",
    "以下の値は全てstr型である。"
   ]
  },
  {
   "cell_type": "code",
   "execution_count": 5,
   "id": "a9eaf183",
   "metadata": {
    "execution": {
     "iopub.execute_input": "2022-09-14T00:16:59.835259Z",
     "iopub.status.busy": "2022-09-14T00:16:59.834838Z",
     "iopub.status.idle": "2022-09-14T00:16:59.841438Z",
     "shell.execute_reply": "2022-09-14T00:16:59.840560Z"
    }
   },
   "outputs": [
    {
     "data": {
      "text/plain": [
       "'A'"
      ]
     },
     "execution_count": 5,
     "metadata": {},
     "output_type": "execute_result"
    }
   ],
   "source": [
    "\"hoge\"\n",
    "\"sample\"\n",
    "\"A\"\n",
    "'A'"
   ]
  },
  {
   "cell_type": "markdown",
   "id": "0b1cbeab",
   "metadata": {},
   "source": [
    "## type() を使って型を確認できる。\n",
    "\n",
    "ここまで標準的な型について説明してきたが、type関数を使用することで型を判別することができる。\n",
    "実際に手を動かして確認してみよう。"
   ]
  },
  {
   "cell_type": "code",
   "execution_count": 6,
   "id": "806461f2",
   "metadata": {
    "execution": {
     "iopub.execute_input": "2022-09-14T00:16:59.845950Z",
     "iopub.status.busy": "2022-09-14T00:16:59.845550Z",
     "iopub.status.idle": "2022-09-14T00:16:59.852240Z",
     "shell.execute_reply": "2022-09-14T00:16:59.851077Z"
    }
   },
   "outputs": [
    {
     "data": {
      "text/plain": [
       "str"
      ]
     },
     "execution_count": 6,
     "metadata": {},
     "output_type": "execute_result"
    }
   ],
   "source": [
    "# int型の確認\n",
    "type(2)\n",
    "\n",
    "# float型の確認\n",
    "type(0.1)\n",
    "\n",
    "# str型の確認\n",
    "type(\"hoge\")"
   ]
  },
  {
   "cell_type": "markdown",
   "id": "5ea359b2",
   "metadata": {},
   "source": [
    "## str型の変数の中身をprint文を使用して出力することができる。\n",
    "\n",
    "次にprint文を使用して変数の中身を表示してみる。\n",
    "例えば、\"Pythonはプログラミング言語です\"というstr型を持つ値に対してsentenceという名前を付けてみる。"
   ]
  },
  {
   "cell_type": "code",
   "execution_count": 7,
   "id": "b573135f",
   "metadata": {
    "execution": {
     "iopub.execute_input": "2022-09-14T00:16:59.857020Z",
     "iopub.status.busy": "2022-09-14T00:16:59.856598Z",
     "iopub.status.idle": "2022-09-14T00:16:59.860949Z",
     "shell.execute_reply": "2022-09-14T00:16:59.860095Z"
    }
   },
   "outputs": [],
   "source": [
    "sentence = \"Pythonはプログラミング言語です\""
   ]
  },
  {
   "cell_type": "markdown",
   "id": "f1893bc1",
   "metadata": {},
   "source": [
    "さらにこれをprint文を使って出力してみる。"
   ]
  },
  {
   "cell_type": "code",
   "execution_count": 8,
   "id": "e045d2ed",
   "metadata": {
    "execution": {
     "iopub.execute_input": "2022-09-14T00:16:59.865323Z",
     "iopub.status.busy": "2022-09-14T00:16:59.864949Z",
     "iopub.status.idle": "2022-09-14T00:16:59.869994Z",
     "shell.execute_reply": "2022-09-14T00:16:59.868746Z"
    }
   },
   "outputs": [
    {
     "name": "stdout",
     "output_type": "stream",
     "text": [
      "Pythonはプログラミング言語です\n"
     ]
    }
   ],
   "source": [
    "print(sentence)"
   ]
  },
  {
   "cell_type": "markdown",
   "id": "3bcb1923",
   "metadata": {},
   "source": [
    "これでstr型の変数の中身をprint文を使用して出力することができた。\n",
    "\n",
    "## 条件について理解する。\n",
    "まずif文について説明する。\n",
    "Pythonのif文の構文は以下の通りである。\n",
    "\n",
    "```\n",
    "if 条件文:\n",
    "    真の場合の処理\n",
    "else: \n",
    "    偽の場合の処理\n",
    "```\n",
    "\n",
    "なお、else句については省略可能である。\n",
    "また、else-if句については以下のように記述できる。\n",
    "\n",
    "```\n",
    "if 条件文1:\n",
    "    条件文1が真の場合の処理\n",
    "elif 条件文2:\n",
    "    条件文2が真の場合の処理\n",
    "else:\n",
    "    条件文1,条件文2ともに偽だった場合の処理\n",
    "```\n",
    "\n",
    "では試しに、下記のコード中の\"[MASK]\"を穴埋めして \"sub_valueは0より小さいです。\" という文を出力してみよう。"
   ]
  },
  {
   "cell_type": "code",
   "execution_count": 9,
   "id": "c33e4605",
   "metadata": {
    "execution": {
     "iopub.execute_input": "2022-09-14T00:16:59.874775Z",
     "iopub.status.busy": "2022-09-14T00:16:59.874337Z",
     "iopub.status.idle": "2022-09-14T00:17:00.524336Z",
     "shell.execute_reply": "2022-09-14T00:17:00.523465Z"
    },
    "tags": [
     "raises-exception",
     "hide-output"
    ]
   },
   "outputs": [
    {
     "name": "stdout",
     "output_type": "stream",
     "text": [
      "sum_value は3より大きいです。\n"
     ]
    },
    {
     "ename": "NameError",
     "evalue": "name 'MASK' is not defined",
     "output_type": "error",
     "traceback": [
      "\u001b[0;31m---------------------------------------------------------------------------\u001b[0m",
      "\u001b[0;31mNameError\u001b[0m                                 Traceback (most recent call last)",
      "Cell \u001b[0;32mIn [9], line 8\u001b[0m\n\u001b[1;32m      6\u001b[0m sub_value \u001b[38;5;241m=\u001b[39m \u001b[38;5;241m5\u001b[39m \u001b[38;5;241m-\u001b[39m \u001b[38;5;241m6\u001b[39m\n\u001b[1;32m      7\u001b[0m \u001b[38;5;66;03m# ここで sub_value が0より小さいか判定を行う。\u001b[39;00m\n\u001b[0;32m----> 8\u001b[0m \u001b[38;5;28;01mif\u001b[39;00m [\u001b[43mMASK\u001b[49m]:\n\u001b[1;32m      9\u001b[0m     \u001b[38;5;28mprint\u001b[39m(\u001b[38;5;124m\"\u001b[39m\u001b[38;5;124msub_valueは0より小さいです。\u001b[39m\u001b[38;5;124m\"\u001b[39m)\n\u001b[1;32m     10\u001b[0m \u001b[38;5;28;01melse\u001b[39;00m:\n",
      "\u001b[0;31mNameError\u001b[0m: name 'MASK' is not defined"
     ]
    }
   ],
   "source": [
    "# 下記は例である。\n",
    "sum_value = 3 + 2\n",
    "if sum_value > 3:\n",
    "    print(\"sum_value は3より大きいです。\")\n",
    "\n",
    "sub_value = 5 - 6\n",
    "# ここで sub_value が0より小さいか判定を行う。\n",
    "if [MASK]:\n",
    "    print(\"sub_valueは0より小さいです。\")\n",
    "else:\n",
    "    print(\"sub_valueは0以上です。\")"
   ]
  },
  {
   "cell_type": "markdown",
   "id": "33ad2ad9",
   "metadata": {},
   "source": [
    "## ループについて理解する。\n",
    "\n",
    "次にループの話をする。Pythonでループを行う方法はfor文とwhile文を使う2つの方法がある。\n",
    "ここではfor文を用いたループについて説明する。\n",
    "Pythonのfor文の構文は以下である。"
   ]
  },
  {
   "cell_type": "code",
   "execution_count": 10,
   "id": "e1899dc6",
   "metadata": {
    "execution": {
     "iopub.execute_input": "2022-09-14T00:17:00.528530Z",
     "iopub.status.busy": "2022-09-14T00:17:00.528173Z",
     "iopub.status.idle": "2022-09-14T00:17:00.532773Z",
     "shell.execute_reply": "2022-09-14T00:17:00.532003Z"
    }
   },
   "outputs": [
    {
     "name": "stdout",
     "output_type": "stream",
     "text": [
      "ループ\n",
      "ループ\n",
      "ループ\n",
      "ループ\n",
      "ループ\n",
      "ループ\n",
      "ループ\n",
      "ループ\n",
      "ループ\n",
      "ループ\n"
     ]
    }
   ],
   "source": [
    "# \"ループ\"という文字を10回出力する方法\n",
    "\n",
    "for i in range(10):\n",
    "    print(\"ループ\")\n",
    "\n"
   ]
  },
  {
   "cell_type": "markdown",
   "id": "04e3c2e1",
   "metadata": {},
   "source": [
    "## 関数について理解する。\n",
    "\n",
    "Pythonにおける関数の定義方法は下記である。"
   ]
  },
  {
   "cell_type": "code",
   "execution_count": 11,
   "id": "8ad17c00",
   "metadata": {
    "execution": {
     "iopub.execute_input": "2022-09-14T00:17:00.537864Z",
     "iopub.status.busy": "2022-09-14T00:17:00.537191Z",
     "iopub.status.idle": "2022-09-14T00:17:00.541930Z",
     "shell.execute_reply": "2022-09-14T00:17:00.541132Z"
    }
   },
   "outputs": [
    {
     "name": "stdout",
     "output_type": "stream",
     "text": [
      "5\n"
     ]
    }
   ],
   "source": [
    "def add(a, b):\n",
    "  return a + b\n",
    "\n",
    "sum = add(2,3)\n",
    "print(sum)"
   ]
  },
  {
   "cell_type": "markdown",
   "id": "dfbed7fc",
   "metadata": {},
   "source": [
    "また、型ヒントを使うと下記のように書き換えることができる。"
   ]
  },
  {
   "cell_type": "code",
   "execution_count": 12,
   "id": "4ad4042f",
   "metadata": {
    "execution": {
     "iopub.execute_input": "2022-09-14T00:17:00.546374Z",
     "iopub.status.busy": "2022-09-14T00:17:00.546015Z",
     "iopub.status.idle": "2022-09-14T00:17:00.550800Z",
     "shell.execute_reply": "2022-09-14T00:17:00.550046Z"
    }
   },
   "outputs": [
    {
     "name": "stdout",
     "output_type": "stream",
     "text": [
      "5\n"
     ]
    }
   ],
   "source": [
    "def add(a: int, b :int) -> int:\n",
    "  return a + b\n",
    "\n",
    "sum = add(2,3)\n",
    "print(sum)"
   ]
  },
  {
   "cell_type": "markdown",
   "id": "e9342f3f",
   "metadata": {},
   "source": [
    "## cast について\n",
    "\n",
    "下記のコードはエラーが出て実行することができない"
   ]
  },
  {
   "cell_type": "code",
   "execution_count": 13,
   "id": "c205257d",
   "metadata": {
    "execution": {
     "iopub.execute_input": "2022-09-14T00:17:00.555349Z",
     "iopub.status.busy": "2022-09-14T00:17:00.554962Z",
     "iopub.status.idle": "2022-09-14T00:17:00.574659Z",
     "shell.execute_reply": "2022-09-14T00:17:00.573798Z"
    },
    "tags": [
     "raises-exception",
     "hide-output"
    ]
   },
   "outputs": [
    {
     "ename": "TypeError",
     "evalue": "can only concatenate str (not \"int\") to str",
     "output_type": "error",
     "traceback": [
      "\u001b[0;31m---------------------------------------------------------------------------\u001b[0m",
      "\u001b[0;31mTypeError\u001b[0m                                 Traceback (most recent call last)",
      "Cell \u001b[0;32mIn [13], line 1\u001b[0m\n\u001b[0;32m----> 1\u001b[0m \u001b[38;5;28mprint\u001b[39m(\u001b[38;5;124;43m\"\u001b[39;49m\u001b[38;5;124;43mhoge\u001b[39;49m\u001b[38;5;124;43m\"\u001b[39;49m\u001b[43m \u001b[49m\u001b[38;5;241;43m+\u001b[39;49m\u001b[43m \u001b[49m\u001b[38;5;241;43m1\u001b[39;49m)\n",
      "\u001b[0;31mTypeError\u001b[0m: can only concatenate str (not \"int\") to str"
     ]
    }
   ],
   "source": [
    "print(\"hoge\" + 1)"
   ]
  },
  {
   "cell_type": "markdown",
   "id": "0d17cdea",
   "metadata": {},
   "source": [
    "エラーには\n",
    "`TypeError: can only concatenate str (not \"int\") to str` と書いてある。\n",
    "つまり、str型はstr型としか連結することができないと言っているわけだ。\n",
    "\n",
    "そのため、int型の 1 をstr型に変換する必要がある。\n",
    "\n",
    "ここではcastを行い型を変換する。\n",
    "例として、str型をint型に変換してみる。"
   ]
  },
  {
   "cell_type": "code",
   "execution_count": 14,
   "id": "a04632b1",
   "metadata": {
    "execution": {
     "iopub.execute_input": "2022-09-14T00:17:00.579038Z",
     "iopub.status.busy": "2022-09-14T00:17:00.578657Z",
     "iopub.status.idle": "2022-09-14T00:17:00.583141Z",
     "shell.execute_reply": "2022-09-14T00:17:00.582336Z"
    }
   },
   "outputs": [
    {
     "name": "stdout",
     "output_type": "stream",
     "text": [
      "<class 'str'>\n"
     ]
    }
   ],
   "source": [
    "cast = str(1)\n",
    "print(type(cast))"
   ]
  },
  {
   "cell_type": "markdown",
   "id": "fa2f9f62",
   "metadata": {},
   "source": [
    "次にint型をstr型に変換してみる。"
   ]
  },
  {
   "cell_type": "code",
   "execution_count": 15,
   "id": "b4559878",
   "metadata": {
    "execution": {
     "iopub.execute_input": "2022-09-14T00:17:00.588006Z",
     "iopub.status.busy": "2022-09-14T00:17:00.587612Z",
     "iopub.status.idle": "2022-09-14T00:17:00.592209Z",
     "shell.execute_reply": "2022-09-14T00:17:00.591363Z"
    }
   },
   "outputs": [
    {
     "name": "stdout",
     "output_type": "stream",
     "text": [
      "<class 'int'>\n"
     ]
    }
   ],
   "source": [
    "cast = int(\"1\")\n",
    "print(type(cast))"
   ]
  },
  {
   "cell_type": "markdown",
   "id": "ea4730ad",
   "metadata": {},
   "source": [
    "ここで注意したいのは、任意の文字列全てをintやfloatなどにcastできるわけではない。\n",
    "\n",
    "例えば、下記を実行するとエラーがでる。"
   ]
  },
  {
   "cell_type": "code",
   "execution_count": 16,
   "id": "b546bb44",
   "metadata": {
    "execution": {
     "iopub.execute_input": "2022-09-14T00:17:00.596602Z",
     "iopub.status.busy": "2022-09-14T00:17:00.596219Z",
     "iopub.status.idle": "2022-09-14T00:17:00.616938Z",
     "shell.execute_reply": "2022-09-14T00:17:00.616003Z"
    },
    "tags": [
     "raises-exception",
     "hide-output"
    ]
   },
   "outputs": [
    {
     "ename": "ValueError",
     "evalue": "invalid literal for int() with base 10: 'hoge'",
     "output_type": "error",
     "traceback": [
      "\u001b[0;31m---------------------------------------------------------------------------\u001b[0m",
      "\u001b[0;31mValueError\u001b[0m                                Traceback (most recent call last)",
      "Cell \u001b[0;32mIn [16], line 1\u001b[0m\n\u001b[0;32m----> 1\u001b[0m cast \u001b[38;5;241m=\u001b[39m \u001b[38;5;28;43mint\u001b[39;49m\u001b[43m(\u001b[49m\u001b[38;5;124;43m\"\u001b[39;49m\u001b[38;5;124;43mhoge\u001b[39;49m\u001b[38;5;124;43m\"\u001b[39;49m\u001b[43m)\u001b[49m\n",
      "\u001b[0;31mValueError\u001b[0m: invalid literal for int() with base 10: 'hoge'"
     ]
    }
   ],
   "source": [
    "cast = int(\"hoge\")"
   ]
  },
  {
   "cell_type": "markdown",
   "id": "9b34549e",
   "metadata": {},
   "source": [
    "エラーは`ValreError: invalid literal for int() with base 10: 'hoge'` となり、そもそもValueErrorは引数に適切ではない値を受け渡した際に発生するエラーである。また、エラー文をよく読んでいくと、 どうやらintのcastには10進数の値を入れる必要があることもわかる。\n",
    "\n",
    "もし安全にstr型からint型に変換したいのであれば、isdeimal()を使用して変換が可能かどうか調べると良い。"
   ]
  },
  {
   "cell_type": "code",
   "execution_count": 17,
   "id": "1577b889",
   "metadata": {
    "execution": {
     "iopub.execute_input": "2022-09-14T00:17:00.621974Z",
     "iopub.status.busy": "2022-09-14T00:17:00.621561Z",
     "iopub.status.idle": "2022-09-14T00:17:00.626388Z",
     "shell.execute_reply": "2022-09-14T00:17:00.625597Z"
    }
   },
   "outputs": [
    {
     "name": "stdout",
     "output_type": "stream",
     "text": [
      "True\n"
     ]
    }
   ],
   "source": [
    "hoge = \"11\"\n",
    "\n",
    "is_int = hoge.isdecimal()\n",
    "print(is_int)"
   ]
  }
 ],
 "metadata": {
  "jupytext": {
   "cell_metadata_json": true
  },
  "kernelspec": {
   "display_name": "Python 3",
   "language": "python",
   "name": "python3"
  },
  "language_info": {
   "codemirror_mode": {
    "name": "ipython",
    "version": 3
   },
   "file_extension": ".py",
   "mimetype": "text/x-python",
   "name": "python",
   "nbconvert_exporter": "python",
   "pygments_lexer": "ipython3",
   "version": "3.8.2"
  }
 },
 "nbformat": 4,
 "nbformat_minor": 5
}
