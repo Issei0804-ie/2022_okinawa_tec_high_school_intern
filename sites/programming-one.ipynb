{
 "cells": [
  {
   "cell_type": "markdown",
   "id": "b3ccc39c",
   "metadata": {},
   "source": [
    "# プログラミング総合演習1\n",
    "\n",
    "## この時間の目標\n",
    "- プログラミングのステップが3つあることを理解する。\n",
    "- GoogleColabを使用して資料に掲載されているサンプルコードを実行する。\n",
    "- print文を使って任意の文を出力させることができる。\n",
    "- 代表的な型(int, str, float)を区別できる。\n",
    "- type() を使って型を確認できる。\n",
    "- int型の変数の中身をprint文を使用して出力することができる。\n",
    "- 変数と条件について理解する。\n",
    "- ループと関数について理解する。\n",
    "\n",
    "--\n",
    "\n",
    "## プログラミングの3ステップ\n",
    "\n",
    "我々がプログラミングを行う際考えなければならないステップが3つある。\n",
    "以下のステップに従うことで、複雑な問題であったとしてもプログラムすることができる。\n",
    "\n",
    "1. 実現したいことに対する理解\n",
    "2. 理解したことを手順として説明する\n",
    "3. プログラムへ翻訳する\n",
    "\n",
    "例題を2つ見ていこう。あなたが「三角形の面積を求める」ということをプログラミングで実現したいとする。\n",
    "その場合、プログラミングの3ステップは以下の通りとなる。\n",
    "\n",
    "1. 実現したいことに対する理解\n",
    "    + **三角形の面積を求める**と理解する\n",
    "2. 理解したことを手順として説明する\n",
    "    + 三角形の面積を求めるためには...\n",
    "      - 手順1. 求めたい三角形の底辺と高さを知る必要がある\n",
    "      - 手順2. 底辺と高さを用いて三角形の面積を計算する\n",
    "3. プログラムへ翻訳する\n",
    "    + 例として以下のコードを思いつく。"
   ]
  },
  {
   "cell_type": "code",
   "execution_count": 1,
   "id": "a3b28e49",
   "metadata": {
    "execution": {
     "iopub.execute_input": "2022-08-31T09:48:12.329747Z",
     "iopub.status.busy": "2022-08-31T09:48:12.327607Z",
     "iopub.status.idle": "2022-08-31T09:48:12.350431Z",
     "shell.execute_reply": "2022-08-31T09:48:12.349238Z"
    }
   },
   "outputs": [],
   "source": [
    "width = 3\n",
    "height = 5\n",
    "area = width * height / 2"
   ]
  },
  {
   "cell_type": "markdown",
   "id": "08dd6063",
   "metadata": {
    "pycharm": {
     "name": "#%% md\n"
    }
   },
   "source": [
    "もう少し発展的な例を見ていく。\n",
    "\n",
    "(hogehoge)\n",
    "\n",
    "## GoogleColabを使用して資料に掲載されているサンプルコードを実行する。\n",
    "\n",
    "Pythonを実行する方法は色々とあるが、今回はGoogleColabを使用してコードを実行する。\n",
    "GoogleColabについて簡単に説明すると、ブラウザ上でPythonを実行、記述できるサービスである。\n",
    "もう少し詳細な情報を知りたい方は[リンク先](https://research.google.com/colaboratory/faq.html?hl=ja)を参考にしてほしい。\n",
    "\n",
    "下記のprint文をColabで実行してみよう。まず、このページ右上のロケットマークをクリックする。"
   ]
  },
  {
   "cell_type": "code",
   "execution_count": 2,
   "id": "90608ae3",
   "metadata": {
    "execution": {
     "iopub.execute_input": "2022-08-31T09:48:12.356019Z",
     "iopub.status.busy": "2022-08-31T09:48:12.355306Z",
     "iopub.status.idle": "2022-08-31T09:48:12.360784Z",
     "shell.execute_reply": "2022-08-31T09:48:12.359720Z"
    }
   },
   "outputs": [
    {
     "name": "stdout",
     "output_type": "stream",
     "text": [
      "Hallo!\n"
     ]
    }
   ],
   "source": [
    "print(\"Hallo!\")"
   ]
  },
  {
   "cell_type": "markdown",
   "id": "f6f04750",
   "metadata": {},
   "source": [
    "## print文を使って任意の文を出力させることができる。\n",
    "## 代表的な型(int, str, float)を区別できる。\n",
    "## type() を使って型を確認できる。\n",
    "## int型の変数の中身をprint文を使用して出力することができる。\n",
    "## 変数と条件について理解する。\n",
    "## ループと関数について理解する。"
   ]
  }
 ],
 "metadata": {
  "jupytext": {
   "cell_metadata_json": true
  },
  "kernelspec": {
   "display_name": "Python 3",
   "language": "python",
   "name": "python3"
  },
  "language_info": {
   "codemirror_mode": {
    "name": "ipython",
    "version": 3
   },
   "file_extension": ".py",
   "mimetype": "text/x-python",
   "name": "python",
   "nbconvert_exporter": "python",
   "pygments_lexer": "ipython3",
   "version": "3.9.7"
  }
 },
 "nbformat": 4,
 "nbformat_minor": 5
}