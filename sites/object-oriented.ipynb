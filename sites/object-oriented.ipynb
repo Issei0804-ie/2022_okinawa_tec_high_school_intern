{
 "cells": [
  {
   "cell_type": "markdown",
   "id": "7fe6f57b",
   "metadata": {},
   "source": [
    "# オブジェクト指向の説明とその例題\n",
    "\n",
    "## 手続き型プログラミングと比較する\n",
    "\n",
    "[資料](https://github.com/naltoma/java_intro2020/blob/master/ObjectOrientedProgramming.md)。\n",
    "\n",
    "## 貸出図書クラスの設計＆実装例\n",
    "\n",
    "- クラス名: RentalBook\n",
    "  + タイトル: title\n",
    "  + バーコード: barcode"
   ]
  },
  {
   "cell_type": "code",
   "execution_count": 1,
   "id": "735b18b4",
   "metadata": {
    "execution": {
     "iopub.execute_input": "2022-09-14T00:17:03.665034Z",
     "iopub.status.busy": "2022-09-14T00:17:03.664480Z",
     "iopub.status.idle": "2022-09-14T00:17:03.680556Z",
     "shell.execute_reply": "2022-09-14T00:17:03.679591Z"
    }
   },
   "outputs": [
    {
     "name": "stdout",
     "output_type": "stream",
     "text": [
      "title=ルートビア, barcode=12345\n"
     ]
    }
   ],
   "source": [
    "class RentalBook:\n",
    "  # コンストラクタ\n",
    "  def __init__(self, title, barcode):\n",
    "    self.title = title;\n",
    "    self.barcode = barcode;\n",
    "\n",
    "  def printSummary(self):\n",
    "    print(f\"title={self.title}, barcode={self.barcode}\")\n",
    "\n",
    "book1 = RentalBook(\"ルートビア\", 12345)\n",
    "book1.printSummary()"
   ]
  },
  {
   "cell_type": "markdown",
   "id": "dcf8f339",
   "metadata": {},
   "source": [
    "## 会員クラスの設計&実装例\n",
    "\n",
    "- Member\n",
    "  + 会員番号: id\n",
    "  + 氏名: name"
   ]
  },
  {
   "cell_type": "code",
   "execution_count": 2,
   "id": "a742dd8d",
   "metadata": {
    "execution": {
     "iopub.execute_input": "2022-09-14T00:17:03.686470Z",
     "iopub.status.busy": "2022-09-14T00:17:03.686016Z",
     "iopub.status.idle": "2022-09-14T00:17:03.692905Z",
     "shell.execute_reply": "2022-09-14T00:17:03.691915Z"
    }
   },
   "outputs": [
    {
     "name": "stdout",
     "output_type": "stream",
     "text": [
      "title=ルートビア, barcode=12345\n",
      "issei\n"
     ]
    }
   ],
   "source": [
    "class Member:\n",
    "  def __init__(self, id, name):\n",
    "    self.id = id\n",
    "    self.name = name\n",
    "\n",
    "  def getName(self):\n",
    "    return self.name\n",
    "book1 = RentalBook(\"ルートビア\", 12345)\n",
    "book1.printSummary()\n",
    "\n",
    "member = Member(1, \"issei\")\n",
    "print(member.getName())"
   ]
  },
  {
   "cell_type": "markdown",
   "id": "17f7901f",
   "metadata": {},
   "source": [
    "## 貸出情報クラスの設計＆実装例\n",
    "\n",
    "- クラス名: RentalLog\n",
    "  + 会員: Member member\n",
    "  + 貸出図書: RentalBook book\n",
    "  + 貸出日: datetime.date rental_begin;\n",
    "  + 返却予定日: datetime.date rental_end_plan;\n",
    "  + 返却フラグ: bool returned;"
   ]
  },
  {
   "cell_type": "code",
   "execution_count": 3,
   "id": "18bc494c",
   "metadata": {
    "execution": {
     "iopub.execute_input": "2022-09-14T00:17:03.698622Z",
     "iopub.status.busy": "2022-09-14T00:17:03.698166Z",
     "iopub.status.idle": "2022-09-14T00:17:03.707478Z",
     "shell.execute_reply": "2022-09-14T00:17:03.706358Z"
    }
   },
   "outputs": [
    {
     "name": "stdout",
     "output_type": "stream",
     "text": [
      "title=ルートビア, barcode=12345\n",
      "issei\n",
      "2022年9月21日までにご返却ください\n"
     ]
    }
   ],
   "source": [
    "import datetime\n",
    "\n",
    "class RentalLog:\n",
    "  def __init__(self, member, book):\n",
    "    self.member = member\n",
    "    self.book = book\n",
    "    self.rental_begin = datetime.date.today()\n",
    "    self.rental_end_plan = self.rental_begin + datetime.timedelta(days=7)\n",
    "    self.returned = False\n",
    "\n",
    "  def get_rental_end_plan(self):\n",
    "    print(f\"{self.rental_end_plan.year}年{self.rental_end_plan.month}月{self.rental_end_plan.day}日までにご返却ください\")\n",
    "\n",
    "\n",
    "book1 = RentalBook(\"ルートビア\", 12345)\n",
    "book1.printSummary()\n",
    "\n",
    "member = Member(1, \"issei\")\n",
    "print(member.getName())\n",
    "\n",
    "log = RentalLog(member, book1)\n",
    "log.get_rental_end_plan()\n"
   ]
  },
  {
   "cell_type": "markdown",
   "id": "a991c00b",
   "metadata": {},
   "source": [
    "---\n",
    "\n",
    "## クラス設計の練習\n",
    "\n",
    "ここからは実際にクラス設計の練習を行う。\n",
    "いくつか問題を用意したのでクラス設計を行なってみよう。\n",
    "\n",
    "### 背景\n",
    "\n",
    "先程の貸し出し図書システムに新しく有料会員システムを導入することにした。\n",
    "有料会員と無料会員の違いは下記である。\n",
    "\n",
    "- 有料会員\n",
    "  + 本を合計10冊まで借りることができる\n",
    "  + 貸し出し期間は一冊につき10日である\n",
    "- 無料会員\n",
    "  + 本を合計5冊まで借りることができる\n",
    "  + 貸し出し期間は一冊につき7日である\n",
    "\n",
    "### 練習1\n",
    "\n",
    "Memberクラスに有料会員であるか無料会員であるかを判別するためのフィールド変数を追加しよう。\n",
    "実装する方法は色々と考えられるが自分が思った通りに書いて構わない。\n",
    "\n",
    "\n",
    "### 練習2\n",
    "\n",
    "以下のMemberをコードで表現してみよう。\n",
    "\n",
    "- 名前: issei\n",
    "  + 会員番号: 3\n",
    "  + 会員: 有料会員\n",
    "- 名前: カニ\n",
    "  + 会員番号: 4\n",
    "  + 会員: 無料会員\n",
    "\n",
    "### 練習3\n",
    "\n",
    "一人当たりの本の貸し出し数を管理するための方法の一つとしてMemberクラスに何冊本を借りたか保存しておく方法がある。\n",
    "Memberクラスに何冊本を借りたか保存するコードを書いてみよう。\n",
    "また、借りた本の冊数は get_rentaled_book_num というメソッドを呼び出すと表示されるようにしよう。\n",
    "実装する方法は色々と考えられるが自分が思った通りに書いて構わない。\n",
    "\n",
    "### 練習4\n",
    "\n",
    "今のままでは有料会員であっても貸し出し期間が7日になってしまう。\n",
    "コードを修正して有料会員だと貸し出し期間が10日になるようにしよう。"
   ]
  }
 ],
 "metadata": {
  "jupytext": {
   "cell_metadata_json": true
  },
  "kernelspec": {
   "display_name": "Python 3",
   "language": "python",
   "name": "python3"
  },
  "language_info": {
   "codemirror_mode": {
    "name": "ipython",
    "version": 3
   },
   "file_extension": ".py",
   "mimetype": "text/x-python",
   "name": "python",
   "nbconvert_exporter": "python",
   "pygments_lexer": "ipython3",
   "version": "3.8.2"
  }
 },
 "nbformat": 4,
 "nbformat_minor": 5
}
