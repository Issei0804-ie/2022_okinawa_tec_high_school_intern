{
 "cells": [
  {
   "cell_type": "markdown",
   "id": "7a963b3c",
   "metadata": {},
   "source": [
    "# オブジェクト指向の説明とその例題\n",
    "\n",
    "## 手続き型プログラミングと比較する\n",
    "\n",
    "[資料](https://github.com/naltoma/java_intro2020/blob/master/ObjectOrientedProgramming.md)。\n",
    "\n",
    "## 貸出図書クラスの設計＆実装例\n",
    "\n",
    "- クラス名: RentalBook\n",
    "  + タイトル: title\n",
    "  + バーコード: barcode"
   ]
  },
  {
   "cell_type": "code",
   "execution_count": 1,
   "id": "04ab90bf",
   "metadata": {},
   "outputs": [
    {
     "name": "stdout",
     "output_type": "stream",
     "text": [
      "title=ルートビア, barcode=12345\n"
     ]
    }
   ],
   "source": [
    "class RentalBook:\n",
    "  # コンストラクタ\n",
    "  def __init__(self, title, barcode):\n",
    "    self.title = title;\n",
    "    self.barcode = barcode;\n",
    "\n",
    "  def printSummary(self):\n",
    "    print(f\"title={self.title}, barcode={self.barcode}\")\n",
    "\n",
    "book1 = RentalBook(\"ルートビア\", 12345)\n",
    "book1.printSummary()"
   ]
  },
  {
   "cell_type": "markdown",
   "id": "65b9dd98",
   "metadata": {},
   "source": [
    "## 会員クラスの設計&実装例\n",
    "\n",
    "- Member\n",
    "  + 会員番号: id\n",
    "  + 氏名: name"
   ]
  },
  {
   "cell_type": "code",
   "execution_count": 2,
   "id": "9af66eb2",
   "metadata": {},
   "outputs": [
    {
     "name": "stdout",
     "output_type": "stream",
     "text": [
      "title=ルートビア, barcode=12345\n",
      "issei\n"
     ]
    }
   ],
   "source": [
    "class Member:\n",
    "  def __init__(self, id, name):\n",
    "    self.id = id\n",
    "    self.name = name\n",
    "\n",
    "  def getName(self):\n",
    "    return self.name\n",
    "book1 = RentalBook(\"ルートビア\", 12345)\n",
    "book1.printSummary()\n",
    "\n",
    "member = Member(1, \"issei\")\n",
    "print(member.getName())"
   ]
  },
  {
   "cell_type": "markdown",
   "id": "399f6aa2",
   "metadata": {},
   "source": [
    "## 貸出情報クラスの設計＆実装例\n",
    "\n",
    "- クラス名: RentalLog\n",
    "  + 会員: Member member\n",
    "  + 貸出図書: RentalBook book\n",
    "  + 貸出日: datetime.date rental_begin;\n",
    "  + 返却予定日: datetime.date rental_end_plan;\n",
    "  + 返却フラグ: bool returned;"
   ]
  },
  {
   "cell_type": "code",
   "execution_count": 3,
   "id": "66685e11",
   "metadata": {},
   "outputs": [
    {
     "name": "stdout",
     "output_type": "stream",
     "text": [
      "title=ルートビア, barcode=12345\n",
      "issei\n",
      "2022年9月17日までにご返却ください\n"
     ]
    }
   ],
   "source": [
    "import datetime\n",
    "\n",
    "class RentalLog:\n",
    "  def __init__(self, member, book):\n",
    "    self.member = member\n",
    "    self.book = book\n",
    "    self.rental_begin = datetime.date.today()\n",
    "    self.rental_end_plan = self.rental_begin + datetime.timedelta(days=7)\n",
    "    self.returned = False\n",
    "\n",
    "  def get_rental_end_plan(self):\n",
    "    print(f\"{self.rental_end_plan.year}年{self.rental_end_plan.month}月{self.rental_end_plan.day}日までにご返却ください\")\n",
    "\n",
    "\n",
    "book1 = RentalBook(\"ルートビア\", 12345)\n",
    "book1.printSummary()\n",
    "\n",
    "member = Member(1, \"issei\")\n",
    "print(member.getName())\n",
    "\n",
    "log = RentalLog(member, book1)\n",
    "log.get_rental_end_plan()\n"
   ]
  }
 ],
 "metadata": {
  "jupytext": {
   "cell_metadata_json": true,
   "text_representation": {
    "extension": ".md",
    "format_name": "myst",
    "format_version": 0.13,
    "jupytext_version": "1.14.1"
   }
  },
  "kernelspec": {
   "display_name": "Python 3",
   "language": "python",
   "name": "python3"
  },
  "language_info": {
   "codemirror_mode": {
    "name": "ipython",
    "version": 3
   },
   "file_extension": ".py",
   "mimetype": "text/x-python",
   "name": "python",
   "nbconvert_exporter": "python",
   "pygments_lexer": "ipython3",
   "version": "3.8.13"
  },
  "source_map": [
   13,
   29,
   42,
   50,
   64,
   76
  ]
 },
 "nbformat": 4,
 "nbformat_minor": 5
}