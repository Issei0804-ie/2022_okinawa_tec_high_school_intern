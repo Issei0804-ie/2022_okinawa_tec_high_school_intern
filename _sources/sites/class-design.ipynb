{
 "cells": [
  {
   "cell_type": "markdown",
   "id": "4d45f076",
   "metadata": {},
   "source": [
    "# クラス設計\n",
    "\n",
    "## クラスとは\n",
    "\n",
    "Pythonには標準的なパッケージが用意されており、そのパッケージの中にはいくつかクラスというものが定義されている。\n",
    "ここでコード例を見ながら実際にクラスを見ていく。"
   ]
  },
  {
   "cell_type": "code",
   "execution_count": 1,
   "id": "20a7beed",
   "metadata": {},
   "outputs": [],
   "source": [
    "import random\n",
    "\n"
   ]
  }
 ],
 "metadata": {
  "jupytext": {
   "cell_metadata_json": true,
   "text_representation": {
    "extension": ".md",
    "format_name": "myst",
    "format_version": 0.13,
    "jupytext_version": "1.14.1"
   }
  },
  "kernelspec": {
   "display_name": "Python 3",
   "language": "python",
   "name": "python3"
  },
  "language_info": {
   "codemirror_mode": {
    "name": "ipython",
    "version": 3
   },
   "file_extension": ".py",
   "mimetype": "text/x-python",
   "name": "python",
   "nbconvert_exporter": "python",
   "pygments_lexer": "ipython3",
   "version": "3.8.13"
  },
  "source_map": [
   13,
   22
  ]
 },
 "nbformat": 4,
 "nbformat_minor": 5
}