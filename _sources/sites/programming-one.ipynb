{
 "cells": [
  {
   "cell_type": "markdown",
   "id": "5fee3bf2",
   "metadata": {},
   "source": [
    "# プログラミング総合演習1\n",
    "\n",
    "## この時間の目標\n",
    "- プログラミングのステップが3つあることを理解する。\n",
    "- GoogleColabを使用して資料に掲載されているサンプルコードを実行する。\n",
    "- print文を使って任意の文を出力させることができる。\n",
    "- 標準的な型(int, str, float)を区別できる。\n",
    "- type() を使って型を確認できる。\n",
    "- 変数について理解する。\n",
    "- str型の変数の中身をprint文を使用して出力することができる。\n",
    "- 条件について理解する。\n",
    "- ループと関数について理解する。\n",
    "\n",
    "--\n",
    "\n",
    "## プログラミングの3ステップ\n",
    "\n",
    "我々がプログラミングを行う際考えなければならないステップが3つある。\n",
    "以下のステップに従うことで、複雑な問題であったとしてもプログラムすることができる。\n",
    "\n",
    "1. 実現したいことに対する理解\n",
    "2. 理解したことを手順として説明する\n",
    "3. プログラムへ翻訳する\n",
    "\n",
    "例題を2つ見ていこう。あなたが「三角形の面積を求める」ということをプログラミングで実現したいとする。\n",
    "その場合、プログラミングの3ステップは以下の通りとなる。\n",
    "\n",
    "1. 実現したいことに対する理解\n",
    "    + **三角形の面積を求める**と理解する\n",
    "2. 理解したことを手順として説明する\n",
    "    + 三角形の面積を求めるためには...\n",
    "      - 手順1. 求めたい三角形の底辺と高さを知る必要がある\n",
    "      - 手順2. 底辺と高さを用いて三角形の面積を計算する\n",
    "3. プログラムへ翻訳する\n",
    "    + 例として以下のコードを思いつく。"
   ]
  },
  {
   "cell_type": "code",
   "execution_count": 1,
   "id": "8e75fb00",
   "metadata": {},
   "outputs": [],
   "source": [
    "width = 3\n",
    "height = 5\n",
    "area = width * height / 2"
   ]
  },
  {
   "cell_type": "markdown",
   "id": "51483787",
   "metadata": {},
   "source": [
    "もう少し発展的な例を見ていく。\n",
    "\n",
    "(hogehoge)\n",
    "\n",
    "## GoogleColabを使用して資料に掲載されているサンプルコードを実行する。\n",
    "\n",
    "Pythonを実行する方法は色々とあるが、今回はGoogleColabを使用してコードを実行する。\n",
    "GoogleColabについて簡単に説明すると、ブラウザ上でPythonを実行、記述できるサービスである。\n",
    "もう少し詳細な情報を知りたい方は[リンク先](https://research.google.com/colaboratory/faq.html?hl=ja)を参考にしてほしい。\n",
    "\n",
    "下記のprint文をColabで実行してみよう。まず、このページ右上のロケットマークにカーソルを合わせ、Colabをクリックする。\n",
    "するとポップアップが色々出てくるので文を読んで処理し、Colabのサイトに飛ぼう。\n",
    "Colabのサイトに飛ぶと、書かれているPythonコードを実行するボタンがあるのでそれを押し、結果を確認する。"
   ]
  },
  {
   "cell_type": "code",
   "execution_count": 2,
   "id": "b8e36f99",
   "metadata": {},
   "outputs": [
    {
     "name": "stdout",
     "output_type": "stream",
     "text": [
      "Hallo!\n"
     ]
    }
   ],
   "source": [
    "print(\"Hallo!\")"
   ]
  },
  {
   "cell_type": "markdown",
   "id": "05b6b779",
   "metadata": {},
   "source": [
    "## print文を使って任意の文を出力させることができる。\n",
    "\n",
    "さて、ここまで読んだことでPythonが実行できる環境を整えたことになる。\n",
    "では、実際にPythonを書いてみよう。\n",
    "まずは\"Hello,World\"という文字を出力してみよう。出力はprint関数を用いることで行うことができる。"
   ]
  },
  {
   "cell_type": "code",
   "execution_count": 3,
   "id": "6bb540de",
   "metadata": {},
   "outputs": [],
   "source": [
    "# ここにprint文を書いてみる。"
   ]
  },
  {
   "cell_type": "markdown",
   "id": "08b841ae",
   "metadata": {},
   "source": [
    "## 標準的な型(int, str, float)を区別できる。\n",
    "\n",
    "Pythonで扱う具体的な値は全て型を持っている。\n",
    "ここでは最低限覚えたいPythonが提供する型(type)について説明する。\n",
    "\n",
    "まずはint型について説明する。\n",
    "int型は整数が所持している型である。\n",
    "以下の値は全てint型である。"
   ]
  },
  {
   "cell_type": "code",
   "execution_count": 4,
   "id": "5d8c9732",
   "metadata": {},
   "outputs": [
    {
     "data": {
      "text/plain": [
       "200"
      ]
     },
     "execution_count": 4,
     "metadata": {},
     "output_type": "execute_result"
    }
   ],
   "source": [
    "1\n",
    "3-1\n",
    "100+400\n",
    "100*2"
   ]
  },
  {
   "cell_type": "markdown",
   "id": "f34faf98",
   "metadata": {},
   "source": [
    "次にfloat型について説明する。\n",
    "float型は少数が所持している型である。\n",
    "以下の値は全てfloat型である。"
   ]
  },
  {
   "cell_type": "code",
   "execution_count": 5,
   "id": "3d8c8eb7",
   "metadata": {},
   "outputs": [
    {
     "data": {
      "text/plain": [
       "0.010000000000000002"
      ]
     },
     "execution_count": 5,
     "metadata": {},
     "output_type": "execute_result"
    }
   ],
   "source": [
    "0.1\n",
    "0.00001\n",
    "0.1*0.1"
   ]
  },
  {
   "cell_type": "markdown",
   "id": "8e2cc146",
   "metadata": {},
   "source": [
    "次にstr型について説明する。\n",
    "str型は文字列または文字が所持している型である。\n",
    "以下の値は全てstr型である。"
   ]
  },
  {
   "cell_type": "code",
   "execution_count": 6,
   "id": "d5a36899",
   "metadata": {},
   "outputs": [
    {
     "data": {
      "text/plain": [
       "'A'"
      ]
     },
     "execution_count": 6,
     "metadata": {},
     "output_type": "execute_result"
    }
   ],
   "source": [
    "\"hoge\"\n",
    "\"sample\"\n",
    "\"A\"\n",
    "'A'"
   ]
  },
  {
   "cell_type": "markdown",
   "id": "bb92f7d7",
   "metadata": {},
   "source": [
    "## type() を使って型を確認できる。\n",
    "\n",
    "ここまで標準的な型について説明してきたが、type関数を使用することで型を判別することができる。\n",
    "実際に手を動かして確認してみよう。"
   ]
  },
  {
   "cell_type": "code",
   "execution_count": 7,
   "id": "5f6e3ae4",
   "metadata": {},
   "outputs": [
    {
     "data": {
      "text/plain": [
       "str"
      ]
     },
     "execution_count": 7,
     "metadata": {},
     "output_type": "execute_result"
    }
   ],
   "source": [
    "# int型の確認\n",
    "type(2)\n",
    "\n",
    "# float型の確認\n",
    "type(0.1)\n",
    "\n",
    "# str型の確認\n",
    "type(\"hoge\")"
   ]
  },
  {
   "cell_type": "markdown",
   "id": "e41b9b4b",
   "metadata": {},
   "source": [
    "## 変数について理解する。\n",
    "\n",
    "## str型の変数の中身をprint文を使用して出力することができる。\n",
    "\n",
    "次にprint文を使用して変数の中身を表示してみる。\n",
    "まず変数について説明する。\n",
    "一般的に変数とは値を格納できる箱であると説明されることが多いがわかりやすさを考慮し、変数が持つ機能について先に説明する。\n",
    "変数は何らかの値を保持することができる。そして変数には名前を付けることができる。\n",
    "例えば、\"Pythonはプログラミング言語です\"というstr型を持つ値に対してsentenceという名前を付けてみる。"
   ]
  },
  {
   "cell_type": "code",
   "execution_count": 8,
   "id": "056b6f17",
   "metadata": {},
   "outputs": [],
   "source": [
    "sentence = \"Pythonはプログラミング言語です\""
   ]
  },
  {
   "cell_type": "markdown",
   "id": "3f9dd269",
   "metadata": {},
   "source": [
    "さらにこれをprint文を使って出力してみる。"
   ]
  },
  {
   "cell_type": "code",
   "execution_count": 9,
   "id": "e16a4688",
   "metadata": {},
   "outputs": [
    {
     "name": "stdout",
     "output_type": "stream",
     "text": [
      "Pythonはプログラミング言語です\n"
     ]
    }
   ],
   "source": [
    "print(sentence)"
   ]
  },
  {
   "cell_type": "markdown",
   "id": "d62d7b70",
   "metadata": {},
   "source": [
    "これでstr型の変数の中身をprint文を使用して出力することができた。\n",
    "\n",
    "## 条件について理解する。\n",
    "プログラミングを行う上でif文とfor文は外せない話である。まずif文について説明する。\n",
    "## ループと関数について理解する。"
   ]
  }
 ],
 "metadata": {
  "jupytext": {
   "cell_metadata_json": true,
   "text_representation": {
    "extension": ".md",
    "format_name": "myst",
    "format_version": 0.13,
    "jupytext_version": "1.14.1"
   }
  },
  "kernelspec": {
   "display_name": "Python 3",
   "language": "python",
   "name": "python3"
  },
  "language_info": {
   "codemirror_mode": {
    "name": "ipython",
    "version": 3
   },
   "file_extension": ".py",
   "mimetype": "text/x-python",
   "name": "python",
   "nbconvert_exporter": "python",
   "pygments_lexer": "ipython3",
   "version": "3.8.13"
  },
  "source_map": [
   13,
   51,
   55,
   71,
   73,
   81,
   83,
   94,
   99,
   105,
   109,
   115,
   120,
   127,
   136,
   148,
   150,
   154,
   156
  ]
 },
 "nbformat": 4,
 "nbformat_minor": 5
}